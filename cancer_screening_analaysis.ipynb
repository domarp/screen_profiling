{
 "cells": [
  {
   "cell_type": "code",
   "execution_count": 12,
   "metadata": {},
   "outputs": [],
   "source": [
    "import pandas as pd\n",
    "import numpy as np\n",
    "from matplotlib import pyplot as plt\n",
    "from sklearn.metrics import roc_auc_score, precision_score, recall_score, accuracy_score, confusion_matrix, roc_curve, precision_recall_curve"
   ]
  },
  {
   "cell_type": "code",
   "execution_count": 13,
   "metadata": {},
   "outputs": [
    {
     "name": "stdout",
     "output_type": "stream",
     "text": [
      "(204356, 4)\n"
     ]
    },
    {
     "data": {
      "text/html": [
       "<div>\n",
       "<style scoped>\n",
       "    .dataframe tbody tr th:only-of-type {\n",
       "        vertical-align: middle;\n",
       "    }\n",
       "\n",
       "    .dataframe tbody tr th {\n",
       "        vertical-align: top;\n",
       "    }\n",
       "\n",
       "    .dataframe thead th {\n",
       "        text-align: right;\n",
       "    }\n",
       "</style>\n",
       "<table border=\"1\" class=\"dataframe\">\n",
       "  <thead>\n",
       "    <tr style=\"text-align: right;\">\n",
       "      <th></th>\n",
       "      <th>ID</th>\n",
       "      <th>AGE</th>\n",
       "      <th>PROBABILITY_OF_ONCOLOGY</th>\n",
       "      <th>ONCOLOGY_FLAG</th>\n",
       "    </tr>\n",
       "  </thead>\n",
       "  <tbody>\n",
       "    <tr>\n",
       "      <th>0</th>\n",
       "      <td>152154875</td>\n",
       "      <td>51</td>\n",
       "      <td>0.003072</td>\n",
       "      <td>0</td>\n",
       "    </tr>\n",
       "    <tr>\n",
       "      <th>1</th>\n",
       "      <td>105099144</td>\n",
       "      <td>63</td>\n",
       "      <td>0.007925</td>\n",
       "      <td>0</td>\n",
       "    </tr>\n",
       "    <tr>\n",
       "      <th>2</th>\n",
       "      <td>238820665</td>\n",
       "      <td>67</td>\n",
       "      <td>0.008262</td>\n",
       "      <td>0</td>\n",
       "    </tr>\n",
       "    <tr>\n",
       "      <th>3</th>\n",
       "      <td>284268788</td>\n",
       "      <td>34</td>\n",
       "      <td>0.000118</td>\n",
       "      <td>0</td>\n",
       "    </tr>\n",
       "    <tr>\n",
       "      <th>4</th>\n",
       "      <td>365820024</td>\n",
       "      <td>19</td>\n",
       "      <td>0.000332</td>\n",
       "      <td>0</td>\n",
       "    </tr>\n",
       "  </tbody>\n",
       "</table>\n",
       "</div>"
      ],
      "text/plain": [
       "          ID  AGE  PROBABILITY_OF_ONCOLOGY  ONCOLOGY_FLAG\n",
       "0  152154875   51                 0.003072              0\n",
       "1  105099144   63                 0.007925              0\n",
       "2  238820665   67                 0.008262              0\n",
       "3  284268788   34                 0.000118              0\n",
       "4  365820024   19                 0.000332              0"
      ]
     },
     "execution_count": 13,
     "metadata": {},
     "output_type": "execute_result"
    }
   ],
   "source": [
    "data = pd.read_csv(\"../data/Data_sample_input_final.csv\")\n",
    "print(data.shape)\n",
    "data.head()"
   ]
  },
  {
   "cell_type": "code",
   "execution_count": 14,
   "metadata": {},
   "outputs": [
    {
     "data": {
      "text/plain": [
       "0.002604"
      ]
     },
     "execution_count": 14,
     "metadata": {},
     "output_type": "execute_result"
    }
   ],
   "source": [
    "# Identifying the right proabbility threshold for screening recommendations in the new approach. \n",
    "# This should cover ~28% of the samples OR the number of samples targeted by the current approach\n",
    "fixed_threshold = round(data[\"PROBABILITY_OF_ONCOLOGY\"].quantile(1- ((data[data.AGE > 50].shape[0]-5) / data.shape[0])),6)\n",
    "fixed_threshold"
   ]
  },
  {
   "cell_type": "code",
   "execution_count": 15,
   "metadata": {},
   "outputs": [
    {
     "data": {
      "text/html": [
       "<div>\n",
       "<style scoped>\n",
       "    .dataframe tbody tr th:only-of-type {\n",
       "        vertical-align: middle;\n",
       "    }\n",
       "\n",
       "    .dataframe tbody tr th {\n",
       "        vertical-align: top;\n",
       "    }\n",
       "\n",
       "    .dataframe thead th {\n",
       "        text-align: right;\n",
       "    }\n",
       "</style>\n",
       "<table border=\"1\" class=\"dataframe\">\n",
       "  <thead>\n",
       "    <tr style=\"text-align: right;\">\n",
       "      <th></th>\n",
       "      <th>ID</th>\n",
       "      <th>AGE</th>\n",
       "      <th>PROBABILITY_OF_ONCOLOGY</th>\n",
       "      <th>ONCOLOGY_FLAG</th>\n",
       "      <th>age_group</th>\n",
       "      <th>current_approach</th>\n",
       "      <th>new_approach</th>\n",
       "      <th>match_current</th>\n",
       "      <th>match_new</th>\n",
       "      <th>count_flag</th>\n",
       "    </tr>\n",
       "  </thead>\n",
       "  <tbody>\n",
       "    <tr>\n",
       "      <th>0</th>\n",
       "      <td>152154875</td>\n",
       "      <td>51</td>\n",
       "      <td>0.003072</td>\n",
       "      <td>0</td>\n",
       "      <td>51-60</td>\n",
       "      <td>1</td>\n",
       "      <td>1</td>\n",
       "      <td>0</td>\n",
       "      <td>0</td>\n",
       "      <td>1</td>\n",
       "    </tr>\n",
       "    <tr>\n",
       "      <th>1</th>\n",
       "      <td>105099144</td>\n",
       "      <td>63</td>\n",
       "      <td>0.007925</td>\n",
       "      <td>0</td>\n",
       "      <td>61+</td>\n",
       "      <td>1</td>\n",
       "      <td>1</td>\n",
       "      <td>0</td>\n",
       "      <td>0</td>\n",
       "      <td>1</td>\n",
       "    </tr>\n",
       "    <tr>\n",
       "      <th>2</th>\n",
       "      <td>238820665</td>\n",
       "      <td>67</td>\n",
       "      <td>0.008262</td>\n",
       "      <td>0</td>\n",
       "      <td>61+</td>\n",
       "      <td>1</td>\n",
       "      <td>1</td>\n",
       "      <td>0</td>\n",
       "      <td>0</td>\n",
       "      <td>1</td>\n",
       "    </tr>\n",
       "    <tr>\n",
       "      <th>3</th>\n",
       "      <td>284268788</td>\n",
       "      <td>34</td>\n",
       "      <td>0.000118</td>\n",
       "      <td>0</td>\n",
       "      <td>31-40</td>\n",
       "      <td>0</td>\n",
       "      <td>0</td>\n",
       "      <td>0</td>\n",
       "      <td>0</td>\n",
       "      <td>1</td>\n",
       "    </tr>\n",
       "    <tr>\n",
       "      <th>4</th>\n",
       "      <td>365820024</td>\n",
       "      <td>19</td>\n",
       "      <td>0.000332</td>\n",
       "      <td>0</td>\n",
       "      <td>17-30</td>\n",
       "      <td>0</td>\n",
       "      <td>0</td>\n",
       "      <td>0</td>\n",
       "      <td>0</td>\n",
       "      <td>1</td>\n",
       "    </tr>\n",
       "  </tbody>\n",
       "</table>\n",
       "</div>"
      ],
      "text/plain": [
       "          ID  AGE  PROBABILITY_OF_ONCOLOGY  ONCOLOGY_FLAG age_group  \\\n",
       "0  152154875   51                 0.003072              0     51-60   \n",
       "1  105099144   63                 0.007925              0       61+   \n",
       "2  238820665   67                 0.008262              0       61+   \n",
       "3  284268788   34                 0.000118              0     31-40   \n",
       "4  365820024   19                 0.000332              0     17-30   \n",
       "\n",
       "   current_approach  new_approach  match_current  match_new  count_flag  \n",
       "0                 1             1              0          0           1  \n",
       "1                 1             1              0          0           1  \n",
       "2                 1             1              0          0           1  \n",
       "3                 0             0              0          0           1  \n",
       "4                 0             0              0          0           1  "
      ]
     },
     "execution_count": 15,
     "metadata": {},
     "output_type": "execute_result"
    }
   ],
   "source": [
    "# # Add column on age group 17-30,31-40,41-50,51-60,61+ & dummy column for current approach\n",
    "bins = [17,31,41,51,61,102]\n",
    "labels = [\"17-30\",\"31-40\",\"41-50\",\"51-60\",\"61+\"]\n",
    "data[\"age_group\"] = pd.cut(data[\"AGE\"], bins = bins, labels = labels, right=False)\n",
    "data[\"current_approach\"] = np.where(data.AGE > 50, 1, 0)\n",
    "data[\"new_approach\"] = np.where(data.PROBABILITY_OF_ONCOLOGY > fixed_threshold, 1, 0)\n",
    "data[\"match_current\"] = np.where((data.ONCOLOGY_FLAG == data.current_approach) & (data.current_approach == 1), 1, 0)\n",
    "data[\"match_new\"] = np.where((data.ONCOLOGY_FLAG == data.new_approach) & (data.new_approach == 1), 1, 0)\n",
    "data[\"count_flag\"] = 1\n",
    "data.head()"
   ]
  },
  {
   "cell_type": "code",
   "execution_count": 16,
   "metadata": {},
   "outputs": [
    {
     "name": "stderr",
     "output_type": "stream",
     "text": [
      "<ipython-input-16-27609a1ddbde>:1: FutureWarning: Indexing with multiple keys (implicitly converted to a tuple of keys) will be deprecated, use a list instead.\n",
      "  temp_data = data.groupby([\"age_group\"])[\"ONCOLOGY_FLAG\",\"count_flag\",\"current_approach\",\"new_approach\",\"match_current\",\"match_new\"].sum().reset_index()\n"
     ]
    },
    {
     "data": {
      "text/html": [
       "<div>\n",
       "<style scoped>\n",
       "    .dataframe tbody tr th:only-of-type {\n",
       "        vertical-align: middle;\n",
       "    }\n",
       "\n",
       "    .dataframe tbody tr th {\n",
       "        vertical-align: top;\n",
       "    }\n",
       "\n",
       "    .dataframe thead th {\n",
       "        text-align: right;\n",
       "    }\n",
       "</style>\n",
       "<table border=\"1\" class=\"dataframe\">\n",
       "  <thead>\n",
       "    <tr style=\"text-align: right;\">\n",
       "      <th></th>\n",
       "      <th>age_group</th>\n",
       "      <th>ONCOLOGY_FLAG</th>\n",
       "      <th>count_flag</th>\n",
       "      <th>current_approach</th>\n",
       "      <th>new_approach</th>\n",
       "      <th>match_current</th>\n",
       "      <th>match_new</th>\n",
       "      <th>age_gt_50</th>\n",
       "      <th>default_risk</th>\n",
       "      <th>cur_recall</th>\n",
       "      <th>new_recall</th>\n",
       "      <th>cur_prec</th>\n",
       "      <th>new_prec</th>\n",
       "    </tr>\n",
       "  </thead>\n",
       "  <tbody>\n",
       "    <tr>\n",
       "      <th>0</th>\n",
       "      <td>17-30</td>\n",
       "      <td>109</td>\n",
       "      <td>45403</td>\n",
       "      <td>0</td>\n",
       "      <td>14</td>\n",
       "      <td>0</td>\n",
       "      <td>5</td>\n",
       "      <td>0</td>\n",
       "      <td>0.240072</td>\n",
       "      <td>0.0</td>\n",
       "      <td>4.587156</td>\n",
       "      <td>NaN</td>\n",
       "      <td>35.714286</td>\n",
       "    </tr>\n",
       "    <tr>\n",
       "      <th>1</th>\n",
       "      <td>31-40</td>\n",
       "      <td>320</td>\n",
       "      <td>53983</td>\n",
       "      <td>0</td>\n",
       "      <td>97</td>\n",
       "      <td>0</td>\n",
       "      <td>28</td>\n",
       "      <td>0</td>\n",
       "      <td>0.592779</td>\n",
       "      <td>0.0</td>\n",
       "      <td>8.750000</td>\n",
       "      <td>NaN</td>\n",
       "      <td>28.865979</td>\n",
       "    </tr>\n",
       "    <tr>\n",
       "      <th>2</th>\n",
       "      <td>41-50</td>\n",
       "      <td>722</td>\n",
       "      <td>47351</td>\n",
       "      <td>0</td>\n",
       "      <td>10481</td>\n",
       "      <td>0</td>\n",
       "      <td>261</td>\n",
       "      <td>0</td>\n",
       "      <td>1.524783</td>\n",
       "      <td>0.0</td>\n",
       "      <td>36.149584</td>\n",
       "      <td>NaN</td>\n",
       "      <td>2.490220</td>\n",
       "    </tr>\n",
       "    <tr>\n",
       "      <th>3</th>\n",
       "      <td>51-60</td>\n",
       "      <td>1011</td>\n",
       "      <td>31058</td>\n",
       "      <td>31058</td>\n",
       "      <td>20684</td>\n",
       "      <td>1011</td>\n",
       "      <td>785</td>\n",
       "      <td>1</td>\n",
       "      <td>3.255200</td>\n",
       "      <td>100.0</td>\n",
       "      <td>77.645895</td>\n",
       "      <td>3.255200</td>\n",
       "      <td>3.795204</td>\n",
       "    </tr>\n",
       "    <tr>\n",
       "      <th>4</th>\n",
       "      <td>61+</td>\n",
       "      <td>2194</td>\n",
       "      <td>26561</td>\n",
       "      <td>26561</td>\n",
       "      <td>26336</td>\n",
       "      <td>2194</td>\n",
       "      <td>2183</td>\n",
       "      <td>1</td>\n",
       "      <td>8.260231</td>\n",
       "      <td>100.0</td>\n",
       "      <td>99.498633</td>\n",
       "      <td>8.260231</td>\n",
       "      <td>8.289034</td>\n",
       "    </tr>\n",
       "  </tbody>\n",
       "</table>\n",
       "</div>"
      ],
      "text/plain": [
       "  age_group  ONCOLOGY_FLAG  count_flag  current_approach  new_approach  \\\n",
       "0     17-30            109       45403                 0            14   \n",
       "1     31-40            320       53983                 0            97   \n",
       "2     41-50            722       47351                 0         10481   \n",
       "3     51-60           1011       31058             31058         20684   \n",
       "4       61+           2194       26561             26561         26336   \n",
       "\n",
       "   match_current  match_new  age_gt_50  default_risk  cur_recall  new_recall  \\\n",
       "0              0          5          0      0.240072         0.0    4.587156   \n",
       "1              0         28          0      0.592779         0.0    8.750000   \n",
       "2              0        261          0      1.524783         0.0   36.149584   \n",
       "3           1011        785          1      3.255200       100.0   77.645895   \n",
       "4           2194       2183          1      8.260231       100.0   99.498633   \n",
       "\n",
       "   cur_prec   new_prec  \n",
       "0       NaN  35.714286  \n",
       "1       NaN  28.865979  \n",
       "2       NaN   2.490220  \n",
       "3  3.255200   3.795204  \n",
       "4  8.260231   8.289034  "
      ]
     },
     "execution_count": 16,
     "metadata": {},
     "output_type": "execute_result"
    }
   ],
   "source": [
    "temp_data = data.groupby([\"age_group\"])[\"ONCOLOGY_FLAG\",\"count_flag\",\"current_approach\",\"new_approach\",\"match_current\",\"match_new\"].sum().reset_index()\n",
    "temp_data[\"age_gt_50\"] = np.where(temp_data[\"age_group\"].isin([\"17-30\",\"31-40\",\"41-50\"]), 0, 1)\n",
    "temp_data[\"default_risk\"] = 100*temp_data[\"ONCOLOGY_FLAG\"] / temp_data[\"count_flag\"]\n",
    "temp_data[\"cur_recall\"] = 100*temp_data[\"match_current\"] / temp_data[\"ONCOLOGY_FLAG\"]\n",
    "temp_data[\"new_recall\"] = 100*temp_data[\"match_new\"] / temp_data[\"ONCOLOGY_FLAG\"]\n",
    "temp_data[\"cur_prec\"] = 100*temp_data[\"match_current\"] / temp_data[\"current_approach\"]\n",
    "temp_data[\"new_prec\"] = 100*temp_data[\"match_new\"] / temp_data[\"new_approach\"]\n",
    "temp_data"
   ]
  },
  {
   "cell_type": "code",
   "execution_count": 17,
   "metadata": {},
   "outputs": [
    {
     "data": {
      "image/png": "[encoded data removed]",
      "text/plain": [
       "<Figure size 1080x504 with 1 Axes>"
      ]
     },
     "metadata": {
      "needs_background": "light"
     },
     "output_type": "display_data"
    }
   ],
   "source": [
    "# Cancer risk profile by age\n",
    "ax = temp_data[[\"age_group\",\"default_risk\"]].plot(x=\"age_group\",y=\"default_risk\",title = \"Cancer risk profiles across age groups\", kind=\"bar\", figsize=(15,7))\n",
    "for p in ax.patches:\n",
    "    ax.annotate(\"%.2f\" % p.get_height(), (p.get_x() + p.get_width() / 2., p.get_height()), ha='center', va='center', xytext=(0, 10), textcoords='offset points')\n"
   ]
  },
  {
   "cell_type": "code",
   "execution_count": 18,
   "metadata": {},
   "outputs": [
    {
     "data": {
      "image/png": "[encoded data removed]",
      "text/plain": [
       "<Figure size 1080x504 with 1 Axes>"
      ]
     },
     "metadata": {
      "needs_background": "light"
     },
     "output_type": "display_data"
    }
   ],
   "source": [
    "# Number of sample by age bucket\n",
    "ax = temp_data[[\"age_group\",\"count_flag\"]].plot(x=\"age_group\",y=\"count_flag\",title = \"Number of samples across age groups\", kind=\"bar\", figsize=(15,7))\n",
    "for p in ax.patches:\n",
    "    ax.annotate(\"%.2f\" % p.get_height(), (p.get_x() + p.get_width() / 2., p.get_height()), ha='center', va='center', xytext=(0, 10), textcoords='offset points')\n"
   ]
  },
  {
   "cell_type": "code",
   "execution_count": 19,
   "metadata": {},
   "outputs": [
    {
     "name": "stdout",
     "output_type": "stream",
     "text": [
      "Screening Positivity rate\n",
      "New Approach\n",
      "Age < 50 = 2.775679758308157\n",
      "Age > 50 = 6.312207571246278\n",
      "Overall = 5.6620148580156915\n",
      "\n",
      "Current Approach\n",
      "Age < 50 = nan\n",
      "Age > 50 = 5.562401291240737\n",
      "Overall = 5.562401291240737\n",
      "\n",
      "\n",
      "Case Detection rate\n",
      "New Approach\n",
      "Age < 50 = 25.543006081668114\n",
      "Age > 50 = 92.60530421216849\n",
      "Overall = 74.8852157943067\n",
      "\n",
      "Current Approach\n",
      "Age < 50 = 0.0\n",
      "Age > 50 = 100.0\n",
      "Overall = 73.57667584940312\n"
     ]
    },
    {
     "name": "stderr",
     "output_type": "stream",
     "text": [
      "<ipython-input-19-8db2f683ae87>:23: RuntimeWarning: invalid value encountered in long_scalars\n",
      "  x = 100*age_less_50_df.match_current[0]/age_less_50_df.current_approach[0]\n"
     ]
    },
    {
     "data": {
      "text/plain": [
       "1"
      ]
     },
     "execution_count": 19,
     "metadata": {},
     "output_type": "execute_result"
    }
   ],
   "source": [
    "# Compute screening positivity rates and case detection rates : overall, age > 50 and age < 50\n",
    "\n",
    "def compute_metrics(df):\n",
    "    age_split_data = df[[\"age_gt_50\",\"ONCOLOGY_FLAG\",\"count_flag\",\"current_approach\",\"new_approach\",\"match_current\",\"match_new\"]].groupby(\"age_gt_50\")\\\n",
    "        .sum().reset_index()\n",
    "    age_no_split_data = df[[\"age_gt_50\",\"ONCOLOGY_FLAG\",\"count_flag\",\"current_approach\",\"new_approach\",\"match_current\",\"match_new\"]].sum(axis=0).reset_index()\n",
    "    age_less_50_df = age_split_data[age_split_data.age_gt_50==0]\n",
    "    age_gt_50_df = age_split_data[age_split_data.age_gt_50==1]\n",
    "\n",
    "    # Screening positivity rate\n",
    "    print(\"Screening Positivity rate\")\n",
    "    # New Approach\n",
    "    print(\"New Approach\")\n",
    "    x = 100*age_less_50_df.match_new[0]/age_less_50_df.new_approach[0]\n",
    "    print(f\"Age < 50 = {x}\")\n",
    "    x = 100*age_gt_50_df.match_new[1]/age_gt_50_df.new_approach[1]\n",
    "    print(f\"Age > 50 = {x}\")\n",
    "    x = 100*df.match_new.sum()/df.new_approach.sum()\n",
    "    print(f\"Overall = {x}\")\n",
    "\n",
    "    # Current Approach\n",
    "    print(\"\\nCurrent Approach\")\n",
    "    x = 100*age_less_50_df.match_current[0]/age_less_50_df.current_approach[0]\n",
    "    print(f\"Age < 50 = {x}\")\n",
    "    x = 100*age_gt_50_df.match_current[1]/age_gt_50_df.current_approach[1]\n",
    "    print(f\"Age > 50 = {x}\")\n",
    "    x = 100*df.match_current.sum()/df.current_approach.sum()\n",
    "    print(f\"Overall = {x}\") \n",
    "\n",
    "    # Case Detection rate\n",
    "    print(\"\\n\\nCase Detection rate\")\n",
    "    # New Approach\n",
    "    print(\"New Approach\")\n",
    "    x = 100*age_less_50_df.match_new[0]/age_less_50_df.ONCOLOGY_FLAG[0]\n",
    "    print(f\"Age < 50 = {x}\")\n",
    "    x = 100*age_gt_50_df.match_new[1]/age_gt_50_df.ONCOLOGY_FLAG[1]\n",
    "    print(f\"Age > 50 = {x}\")\n",
    "    x = 100*df.match_new.sum()/df.ONCOLOGY_FLAG.sum()\n",
    "    print(f\"Overall = {x}\")\n",
    "\n",
    "    # Current Approach\n",
    "    print(\"\\nCurrent Approach\")\n",
    "    x = 100*age_less_50_df.match_current[0]/age_less_50_df.ONCOLOGY_FLAG[0]\n",
    "    print(f\"Age < 50 = {x}\")\n",
    "    x = 100*age_gt_50_df.match_current[1]/age_gt_50_df.ONCOLOGY_FLAG[1]\n",
    "    print(f\"Age > 50 = {x}\")\n",
    "    x = 100*df.match_current.sum()/df.ONCOLOGY_FLAG.sum()\n",
    "    print(f\"Overall = {x}\") \n",
    "\n",
    "    return 1\n",
    "\n",
    "compute_metrics(temp_data)\n"
   ]
  },
  {
   "cell_type": "code",
   "execution_count": 20,
   "metadata": {},
   "outputs": [
    {
     "data": {
      "image/png": "[encoded data removed]",
      "text/plain": [
       "<Figure size 1080x504 with 1 Axes>"
      ]
     },
     "metadata": {
      "needs_background": "light"
     },
     "output_type": "display_data"
    }
   ],
   "source": [
    "# Screening positivity rate\n",
    "ax=temp_data[[\"age_group\",\"cur_prec\",\"new_prec\",\"default_risk\"]].rename({'cur_prec':'Current approach', 'new_prec': 'New approach'},axis=1)\\\n",
    "    .plot(kind = \"bar\", x=\"age_group\", title = \"Screening positivity rates across age groups\",\\\n",
    "    figsize = (15,7))\n",
    "for p in ax.patches:\n",
    "    ax.annotate(\"%.2f\" % p.get_height(), (p.get_x() + p.get_width() / 2., p.get_height()), ha='center', va='center', xytext=(0, 10), textcoords='offset points')\n"
   ]
  },
  {
   "cell_type": "code",
   "execution_count": 21,
   "metadata": {},
   "outputs": [
    {
     "data": {
      "image/png": "[encoded data removed]",
      "text/plain": [
       "<Figure size 1080x504 with 1 Axes>"
      ]
     },
     "metadata": {
      "needs_background": "light"
     },
     "output_type": "display_data"
    }
   ],
   "source": [
    "# Case detection rate\n",
    "ax=temp_data[[\"age_group\",\"cur_recall\",\"new_recall\"]].rename({'cur_recall':'Current approach', 'new_recall': 'New approach'},axis=1)\\\n",
    "    .plot(kind = \"bar\", x=\"age_group\", title = \"Case detection rates across age groups\",\\\n",
    "    figsize = (15,7))\n",
    "for p in ax.patches:\n",
    "    ax.annotate(\"%.2f\" % p.get_height(), (p.get_x() + p.get_width() / 2., p.get_height()), ha='center', va='center', xytext=(0, 10), textcoords='offset points')\n"
   ]
  },
  {
   "cell_type": "code",
   "execution_count": 22,
   "metadata": {},
   "outputs": [
    {
     "data": {
      "image/png": "[encoded data removed]",
      "text/plain": [
       "<Figure size 432x288 with 1 Axes>"
      ]
     },
     "metadata": {
      "needs_background": "light"
     },
     "output_type": "display_data"
    }
   ],
   "source": [
    "prec, recl, threshold = precision_recall_curve(data[\"ONCOLOGY_FLAG\"], data[\"PROBABILITY_OF_ONCOLOGY\"])\n",
    "prec, recl = 100*prec, 100*recl\n",
    "\n",
    "prec = [prec[::-1][0]] + list(prec[::-1][3:])\n",
    "recl = [recl[::-1][0]] + list(recl[::-1][3:])\n",
    "threshold = [threshold[::-1][0]] + list(threshold[::-1][3:])\n",
    "threshold_index = len([i for i in threshold if i > fixed_threshold])\n",
    "plot_point = (prec[threshold_index], recl[threshold_index])\n",
    "\n",
    "new_line='\\n'\n",
    "label = f\"Positivity = {prec[threshold_index]:.2f}% {new_line}Detection = {recl[threshold_index]:.2f}% {new_line}\"\\\n",
    "    f\"%Samples = {100*data[data.PROBABILITY_OF_ONCOLOGY>fixed_threshold].shape[0]/data.shape[0]:.2f}%\"\n",
    "\n",
    "plt.title('Screening positivity vs case detection')\n",
    "plt.plot(recl, prec, 'b')\n",
    "plt.plot(plot_point[1],plot_point[0], 'r', marker = 'o', label=label)\n",
    "plt.legend(loc = 'upper right')\n",
    "# plt.plot([0, 1], [0, 1],'r--')\n",
    "plt.xlim([0, 100])\n",
    "plt.ylim([0, 100])\n",
    "plt.ylabel('Screening Positivity Rate')\n",
    "plt.xlabel('Case Detection Rate')\n",
    "plt.show()"
   ]
  },
  {
   "cell_type": "code",
   "execution_count": null,
   "metadata": {},
   "outputs": [],
   "source": []
  }
 ],
 "metadata": {
  "kernelspec": {
   "display_name": "Python 3.8.5 ('base')",
   "language": "python",
   "name": "python3"
  },
  "language_info": {
   "codemirror_mode": {
    "name": "ipython",
    "version": 3
   },
   "file_extension": ".py",
   "mimetype": "text/x-python",
   "name": "python",
   "nbconvert_exporter": "python",
   "pygments_lexer": "ipython3",
   "version": "3.8.5"
  },
  "orig_nbformat": 4,
  "vscode": {
   "interpreter": {
    "hash": "de023c5df99c78500988a49b4f180300547f26729589f89ba1144f2840b90182"
   }
  }
 },
 "nbformat": 4,
 "nbformat_minor": 2
}
